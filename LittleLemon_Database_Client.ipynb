{
 "cells": [
  {
   "cell_type": "code",
   "execution_count": 1,
   "id": "3c666a6f-af66-4308-8ed9-1f8a59867c89",
   "metadata": {},
   "outputs": [],
   "source": [
    "# To install mysql-connector uncomment the command bellow\n",
    "# !pip install mysql-connector-python"
   ]
  },
  {
   "cell_type": "code",
   "execution_count": 2,
   "id": "463cb8a6-ab56-4f76-8b83-51ac8a7465ff",
   "metadata": {},
   "outputs": [],
   "source": [
    "# Import the connector under the alias connector\n",
    "import mysql.connector as connector"
   ]
  },
  {
   "cell_type": "code",
   "execution_count": 3,
   "id": "0830bb92-66fa-486a-9d91-26dcbfb60478",
   "metadata": {},
   "outputs": [
    {
     "name": "stdout",
     "output_type": "stream",
     "text": [
      "A connection between MySQL and Python is successfully established.\n",
      "Connected to database: littlelemondb\n"
     ]
    }
   ],
   "source": [
    "# Task 1: Connecting to the MySQL database\n",
    "\n",
    "config = {\n",
    "    'user': 'your_username',  # Change the username and password and use your own\n",
    "    'password': 'your_password', \n",
    "    'db': 'LittleLemonDB'\n",
    "}\n",
    "# connection = connector.connect(**congig)\n",
    "try:\n",
    "    conn = connector.connect(**config)\n",
    "    print(\"A connection between MySQL and Python is successfully established.\")\n",
    "    print(f\"Connected to database: {conn.database}\")\n",
    "    # Create a cursor object\n",
    "    cursor = conn.cursor()\n",
    "except connector.Error as err:\n",
    "    print(\"Error No:\", err.errno)\n",
    "    print(\"Error Message:\", err.msg)"
   ]
  },
  {
   "cell_type": "code",
   "execution_count": 4,
   "id": "8c123400-ed8d-4119-8a5f-06c68bcaf0fe",
   "metadata": {},
   "outputs": [
    {
     "name": "stdout",
     "output_type": "stream",
     "text": [
      "Tables in `littlelemondb` database:\n",
      "bookings\n",
      "customers\n",
      "menuitems\n",
      "menuitems_menus\n",
      "menus\n",
      "orderdelivery\n",
      "orders\n",
      "ordersview\n",
      "staffs\n"
     ]
    }
   ],
   "source": [
    "# Task 2: Query the database to show all tables within the database\n",
    "try:    \n",
    "    # Retrive all the tables' names from the database\n",
    "    show_tables_query = \"SHOW tables\" \n",
    "    cursor.execute(show_tables_query)\n",
    "    results = cursor.fetchall()    \n",
    "    print(f\"Tables in `{conn.database}` database:\")\n",
    "    for table in results:\n",
    "        print(table[0])\n",
    "    \n",
    "except connector.Error as err:\n",
    "    print(\"Error No:\", err.errno)\n",
    "    print(\"Error Message:\", err.msg)\n",
    "    "
   ]
  },
  {
   "cell_type": "code",
   "execution_count": 5,
   "id": "5eccc6e7-1b42-4b84-9b56-20de6ea83ac1",
   "metadata": {},
   "outputs": [
    {
     "name": "stdout",
     "output_type": "stream",
     "text": [
      "Customer details:\n",
      "\n",
      "FullName                  Email                        ContactNo          TotalCost\n",
      "================          ===================          =========          =========\n",
      "Vanessa McCarthy          vanessa.mc@gmail.com         757536378          250.00\n",
      "Marcos Romero             r_marcos@gmail.com           757536379          200.00\n",
      "Diana Pinto               d_pinto@gmail.com            757536374          115.00\n"
     ]
    }
   ],
   "source": [
    "# Task 3: Query with table JOIN\n",
    "\n",
    "try:    \n",
    "    # Retrive details for every customer that has placed an order > $60.\n",
    "    join_query = \"\"\"\n",
    "        SELECT c.FullName, c.ContactNo, c.Email, o.TotalCost \n",
    "        FROM Customers AS c\n",
    "            INNER JOIN orders AS o\n",
    "            \tON c.CustomerID = o.CustomerID\n",
    "        WHERE o.TotalCost > 60\n",
    "    \"\"\" \n",
    "    cursor.execute(join_query)\n",
    "    customers = cursor.fetchall()\n",
    "    col = cursor.column_names\n",
    "    print(f\"Customer details:\\n\")\n",
    "    print(f'{col[0]:25} {col[2]:28} {col[1]:18} {col[3]}')\n",
    "    print(f'{'='*16:25} {'='*19:28} {'='*9:18} {'='*9}')\n",
    "\n",
    "    for name, phone, email, spending in customers:\n",
    "        print(f'{name:25} {email:28} {phone:18} {spending}')\n",
    "            \n",
    "except connector.Error as err:\n",
    "    print(\"Error No:\", err.errno)\n",
    "    print(\"Error Message:\", err.msg)\n"
   ]
  },
  {
   "cell_type": "code",
   "execution_count": 6,
   "id": "f37f67ad-6625-43b7-bc7a-a75cf5785091",
   "metadata": {},
   "outputs": [
    {
     "name": "stdout",
     "output_type": "stream",
     "text": [
      "Cursor is closed.\n",
      "MySQL connection is closed.\n"
     ]
    }
   ],
   "source": [
    "if conn.is_connected():\n",
    "    cursor.close()\n",
    "    print(\"Cursor is closed.\")\n",
    "    conn.close()\n",
    "    print(\"MySQL connection is closed.\")\n",
    "else:\n",
    "    print(\"Connection is already closed.\")    "
   ]
  }
 ],
 "metadata": {
  "kernelspec": {
   "display_name": "Python 3 (ipykernel)",
   "language": "python",
   "name": "python3"
  },
  "language_info": {
   "codemirror_mode": {
    "name": "ipython",
    "version": 3
   },
   "file_extension": ".py",
   "mimetype": "text/x-python",
   "name": "python",
   "nbconvert_exporter": "python",
   "pygments_lexer": "ipython3",
   "version": "3.12.1"
  }
 },
 "nbformat": 4,
 "nbformat_minor": 5
}
