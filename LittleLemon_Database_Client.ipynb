{
 "cells": [
  {
   "cell_type": "code",
   "execution_count": null,
   "id": "3c666a6f-af66-4308-8ed9-1f8a59867c89",
   "metadata": {},
   "outputs": [],
   "source": [
    "# To install mysql-connector uncomment the command bellow\n",
    "# !pip install mysql-connector-python"
   ]
  },
  {
   "cell_type": "code",
   "execution_count": 1,
   "id": "463cb8a6-ab56-4f76-8b83-51ac8a7465ff",
   "metadata": {},
   "outputs": [],
   "source": [
    "# Import the connector under the alias connector\n",
    "import mysql.connector as connector"
   ]
  },
  {
   "cell_type": "code",
   "execution_count": 2,
   "id": "0830bb92-66fa-486a-9d91-26dcbfb60478",
   "metadata": {},
   "outputs": [
    {
     "name": "stdout",
     "output_type": "stream",
     "text": [
      "A connection between MySQL and Python is successfully established.\n",
      "Connected to database: littlelemondb\n"
     ]
    }
   ],
   "source": [
    "# Task 1: Connecting to the MySQL database\n",
    "\n",
    "config = {\n",
    "    'user': 'testuser',  # Change the username and password and use your own\n",
    "    'password': 'MetaDBE_123!', \n",
    "    'db': 'LittleLemonDB'\n",
    "}\n",
    "# connection = connector.connect(**congig)\n",
    "try:\n",
    "    conn = connector.connect(**config)\n",
    "    print(\"A connection between MySQL and Python is successfully established.\")\n",
    "    print(f\"Connected to database: {conn.database}\")\n",
    "    \n",
    "    # Create a cursor object\n",
    "    cursor = conn.cursor()\n",
    "except connector.Error as err:\n",
    "    print(\"Error No:\", err.errno)\n",
    "    print(\"Error Message:\", err.msg)"
   ]
  },
  {
   "cell_type": "code",
   "execution_count": 3,
   "id": "8c123400-ed8d-4119-8a5f-06c68bcaf0fe",
   "metadata": {},
   "outputs": [
    {
     "name": "stdout",
     "output_type": "stream",
     "text": [
      "Tables in `littlelemondb` database:\n",
      "bookings\n",
      "customers\n",
      "menuitems\n",
      "menuitems_menus\n",
      "menus\n",
      "orderdelivery\n",
      "orders\n",
      "ordersview\n",
      "staffs\n"
     ]
    }
   ],
   "source": [
    "# Task 2: Query the database to show all tables within the database\n",
    "try:    \n",
    "    # Retrive all the tables' names from the database\n",
    "    show_tables_query = \"SHOW tables\" \n",
    "    cursor.execute(show_tables_query)\n",
    "    results = cursor.fetchall()    \n",
    "    print(f\"Tables in `{conn.database}` database:\")\n",
    "    for table in results:\n",
    "        print(table[0])\n",
    "    \n",
    "except connector.Error as err:\n",
    "    print(\"Error No:\", err.errno)\n",
    "    print(\"Error Message:\", err.msg)\n",
    "    "
   ]
  },
  {
   "cell_type": "code",
   "execution_count": 4,
   "id": "5eccc6e7-1b42-4b84-9b56-20de6ea83ac1",
   "metadata": {},
   "outputs": [
    {
     "name": "stdout",
     "output_type": "stream",
     "text": [
      "Customer details:\n",
      "\n",
      "FullName                  Email                        ContactNo          TotalCost\n",
      "================          ===================          =========          =========\n",
      "Vanessa McCarthy          vanessa.mc@gmail.com         757536378          250.00\n",
      "Marcos Romero             r_marcos@gmail.com           757536379          200.00\n",
      "Diana Pinto               d_pinto@gmail.com            757536374          115.00\n",
      "Hiroki Yamane             hiroki_y@gmail.com           757536376          100.00\n"
     ]
    }
   ],
   "source": [
    "# Task 3: Query with table JOIN\n",
    "\n",
    "try:    \n",
    "    # Retrive details for every customer that has placed an order > $60.\n",
    "    join_query = \"\"\"\n",
    "        SELECT c.FullName, c.ContactNo, c.Email, o.TotalCost \n",
    "        FROM Customers AS c\n",
    "            INNER JOIN orders AS o\n",
    "            \tON c.CustomerID = o.CustomerID\n",
    "        WHERE o.TotalCost > 60\n",
    "    \"\"\" \n",
    "    cursor.execute(join_query)\n",
    "    customers = cursor.fetchall()\n",
    "    col = cursor.column_names\n",
    "    print(f\"Customer details:\\n\")\n",
    "    print(f'{col[0]:25} {col[2]:28} {col[1]:18} {col[3]}')\n",
    "    print(f'{'='*16:25} {'='*19:28} {'='*9:18} {'='*9}')\n",
    "\n",
    "    for name, phone, email, spending in customers:\n",
    "        print(f'{name:25} {email:28} {phone:18} {spending}')\n",
    "            \n",
    "except connector.Error as err:\n",
    "    print(\"Error No:\", err.errno)\n",
    "    print(\"Error Message:\", err.msg)\n"
   ]
  },
  {
   "cell_type": "markdown",
   "id": "46f13aa2-284f-4d66-a7f3-b95683544f8f",
   "metadata": {},
   "source": [
    "### Call GetMaxQuantity() procedure"
   ]
  },
  {
   "cell_type": "code",
   "execution_count": 5,
   "id": "ea94b433-c668-44b4-b0cd-b1159c373c55",
   "metadata": {},
   "outputs": [
    {
     "name": "stdout",
     "output_type": "stream",
     "text": [
      "('Max Quantity in Order',)\n",
      "(5,)\n"
     ]
    }
   ],
   "source": [
    "\n",
    "try:    \n",
    "    # Calling `GetMaxQuantity()` procedure\n",
    "    cursor.callproc('GetMaxQuantity', args=())\n",
    "    results = next(cursor.stored_results())\n",
    "    dataset = results.fetchall()\n",
    "    print(results.column_names)\n",
    "    for row in dataset:\n",
    "        print(row)\n",
    "                    \n",
    "except connector.Error as err:\n",
    "    print(\"Error No:\", err.errno)\n",
    "    print(\"Error Message:\", err.msg)\n"
   ]
  },
  {
   "cell_type": "code",
   "execution_count": 6,
   "id": "07c8eb01-24af-4edd-b271-31986a691e05",
   "metadata": {},
   "outputs": [
    {
     "name": "stdout",
     "output_type": "stream",
     "text": [
      "Error No: 1305\n",
      "Error Message: PROCEDURE littlelemondb.ManageBooking does not exist\n"
     ]
    }
   ],
   "source": [
    "\n",
    "try:    \n",
    "    cursor = conn.cursor()\n",
    "    \n",
    "    # Calling `ManageBooking()` procedure\n",
    "    cursor.callproc('ManageBooking', args=())\n",
    "    results = next(cursor.stored_results())\n",
    "    dataset = results.fetchall()\n",
    "    print(results.column_names)\n",
    "    for row in dataset:\n",
    "        print(row)\n",
    "        \n",
    "    # cursor.close()    \n",
    "                \n",
    "except connector.Error as err:\n",
    "    print(\"Error No:\", err.errno)\n",
    "    print(\"Error Message:\", err.msg)\n"
   ]
  },
  {
   "cell_type": "markdown",
   "id": "ed5b73f6-062d-4be3-ac4f-99fe799c2e9c",
   "metadata": {},
   "source": [
    "### Call AddBooking() procedure"
   ]
  },
  {
   "cell_type": "code",
   "execution_count": 7,
   "id": "57aea865-2639-448c-a864-be21b36f3a31",
   "metadata": {},
   "outputs": [
    {
     "name": "stdout",
     "output_type": "stream",
     "text": [
      "('Confirmation',)\n",
      "('New booking added at 2024-04-29.',)\n"
     ]
    }
   ],
   "source": [
    "\n",
    "try:    \n",
    "    # Calling `AddBooking()` procedure\n",
    "    cursor.callproc('AddBooking', args=(99, 99, 99, '2024-04-29'))\n",
    "    results = next(cursor.stored_results())\n",
    "    dataset = results.fetchall()\n",
    "    print(results.column_names)\n",
    "    for row in dataset:\n",
    "        print(row)\n",
    "                    \n",
    "except connector.Error as err:\n",
    "    print(\"Error No:\", err.errno)\n",
    "    print(\"Error Message:\", err.msg)\n"
   ]
  },
  {
   "cell_type": "markdown",
   "id": "914b4e33-b1d5-4408-9cc3-b06dcc0d97f8",
   "metadata": {},
   "source": [
    "### Call UpdateBooking() procedure"
   ]
  },
  {
   "cell_type": "code",
   "execution_count": 8,
   "id": "da2d4333-8dec-4df5-996b-4d31dcb5ea95",
   "metadata": {},
   "outputs": [
    {
     "name": "stdout",
     "output_type": "stream",
     "text": [
      "('Confirmation',)\n",
      "('Booking 99 is updated',)\n"
     ]
    }
   ],
   "source": [
    "\n",
    "try:    \n",
    "    # Calling `UpdateBooking()` procedure\n",
    "    cursor.callproc('UpdateBooking', args=(99, '2024-04-30'))\n",
    "    results = next(cursor.stored_results())\n",
    "    dataset = results.fetchall()\n",
    "    print(results.column_names)\n",
    "    for row in dataset:\n",
    "        print(row)\n",
    "               \n",
    "except connector.Error as err:\n",
    "    print(\"Error No:\", err.errno)\n",
    "    print(\"Error Message:\", err.msg)\n"
   ]
  },
  {
   "cell_type": "markdown",
   "id": "c2620d7d-8e9b-48c2-b497-b2365fa7646f",
   "metadata": {},
   "source": [
    "## Call CancelBooking() procedure"
   ]
  },
  {
   "cell_type": "code",
   "execution_count": 9,
   "id": "af90e155-429c-436f-9e0f-9515f4ce6d99",
   "metadata": {},
   "outputs": [
    {
     "name": "stdout",
     "output_type": "stream",
     "text": [
      "('Confirmation',)\n",
      "('Booking 99 cancelled',)\n"
     ]
    }
   ],
   "source": [
    "\n",
    "try: \n",
    "    # Calling `CancelBooking()` procedure\n",
    "    cursor.callproc('CancelBooking', args=(99,))\n",
    "    results = next(cursor.stored_results())\n",
    "    dataset = results.fetchall()\n",
    "    print(results.column_names)\n",
    "    for row in dataset:\n",
    "        print(row)\n",
    "               \n",
    "except connector.Error as err:\n",
    "    print(\"Error No:\", err.errno)\n",
    "    print(\"Error Message:\", err.msg)\n"
   ]
  },
  {
   "cell_type": "code",
   "execution_count": 10,
   "id": "f37f67ad-6625-43b7-bc7a-a75cf5785091",
   "metadata": {},
   "outputs": [
    {
     "name": "stdout",
     "output_type": "stream",
     "text": [
      "Cursor is closed.\n",
      "MySQL connection is closed.\n"
     ]
    }
   ],
   "source": [
    "if conn.is_connected():\n",
    "    cursor.close()\n",
    "    print(\"Cursor is closed.\")\n",
    "    conn.close()\n",
    "    print(\"MySQL connection is closed.\")\n",
    "else:\n",
    "    print(\"Connection is already closed.\")    "
   ]
  }
 ],
 "metadata": {
  "kernelspec": {
   "display_name": "Python 3 (ipykernel)",
   "language": "python",
   "name": "python3"
  },
  "language_info": {
   "codemirror_mode": {
    "name": "ipython",
    "version": 3
   },
   "file_extension": ".py",
   "mimetype": "text/x-python",
   "name": "python",
   "nbconvert_exporter": "python",
   "pygments_lexer": "ipython3",
   "version": "3.12.1"
  }
 },
 "nbformat": 4,
 "nbformat_minor": 5
}
